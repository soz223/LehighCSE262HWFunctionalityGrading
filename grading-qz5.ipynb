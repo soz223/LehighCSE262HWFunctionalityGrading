{
 "cells": [
  {
   "cell_type": "code",
   "execution_count": null,
   "metadata": {},
   "outputs": [],
   "source": [
    "with open('participants.txt') as f:\n",
    "    # peoples = f.readlines().remove('\\n')\n",
    "    peoples = f.read().splitlines()\n",
    "\n",
    "from tqdm import tqdm\n",
    "import os\n",
    "\n",
    "# # Loop through each email and extract the username part (before '@lehigh.edu')\n",
    "# for people in peoples: using tqdm to show the progress bar\n",
    "for people in tqdm(peoples):\n",
    "    \n",
    "    # Construct the GitLab repo URL using the email username\n",
    "    repo_url = f\"http://gitlab.cse.lehigh.edu/{people}-cse262/quiz-5\"\n",
    "    \n",
    "    # Call the Python script to check the repo\n",
    "    # You would use os.system() or subprocess to execute the shell command\n",
    "\n",
    "    # if exception occurs, print the error message\n",
    "    error = os.system(f\"/opt/conda3/bin/python check_repo.py {repo_url}\")\n",
    "    if error:\n",
    "        print(f\"Repo for {people} is not good!\")\n",
    "        print(error)\n",
    "\n",
    "        # create a file called participants error in it, and save all the error repo, \n",
    "        # so that we can check them later\n",
    "        with open('participants_error.txt', 'a') as f:\n",
    "            f.write(f\"repo_url is not good: {repo_url}\\n\")\n",
    "        continue\n",
    "    else:\n",
    "        # print(f\"Repo for {people} is good!\")\n",
    "        print(error)"
   ]
  }
 ],
 "metadata": {
  "kernelspec": {
   "display_name": "base",
   "language": "python",
   "name": "python3"
  },
  "language_info": {
   "codemirror_mode": {
    "name": "ipython",
    "version": 3
   },
   "file_extension": ".py",
   "mimetype": "text/x-python",
   "name": "python",
   "nbconvert_exporter": "python",
   "pygments_lexer": "ipython3",
   "version": "3.9.13"
  }
 },
 "nbformat": 4,
 "nbformat_minor": 2
}
